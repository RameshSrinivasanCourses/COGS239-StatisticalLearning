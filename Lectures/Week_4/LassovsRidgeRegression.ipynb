{
 "cells": [
  {
   "cell_type": "markdown",
   "metadata": {},
   "source": [
    "This is a small example that demonstrates that one of the key differences between Ridge and Lasso regularization is interpretation.  \n"
   ]
  },
  {
   "cell_type": "code",
   "execution_count": 52,
   "metadata": {
    "collapsed": false
   },
   "outputs": [],
   "source": [
    "import pandas as pd\n",
    "import numpy as np\n",
    "import matplotlib.pyplot as plt\n",
    "\n",
    "from sklearn.preprocessing import StandardScaler \n",
    "from sklearn.model_selection import train_test_split\n",
    "from sklearn.linear_model import Ridge, RidgeCV, Lasso, LassoCV\n",
    "from sklearn.metrics import r2_score"
   ]
  },
  {
   "cell_type": "markdown",
   "metadata": {},
   "source": [
    "We will use the `sklearn` package in order to perform ridge regression and\n",
    "the lasso. The main functions in this package that we care about are `Ridge()`, which can be used\n",
    "to fit ridge regression models, and `Lasso()` which will fit lasso models. They also have cross-validated counterparts: `RidgeCV()` and `LassoCV()`. We'll use these a bit later.\n",
    "\n",
    "Before proceeding, let's first ensure that the missing values have\n",
    "been removed from the data, as described in the previous lab."
   ]
  },
  {
   "cell_type": "code",
   "execution_count": 15,
   "metadata": {
    "collapsed": false
   },
   "outputs": [
    {
     "data": {
      "text/html": [
       "<div>\n",
       "<style scoped>\n",
       "    .dataframe tbody tr th:only-of-type {\n",
       "        vertical-align: middle;\n",
       "    }\n",
       "\n",
       "    .dataframe tbody tr th {\n",
       "        vertical-align: top;\n",
       "    }\n",
       "\n",
       "    .dataframe thead th {\n",
       "        text-align: right;\n",
       "    }\n",
       "</style>\n",
       "<table border=\"1\" class=\"dataframe\">\n",
       "  <thead>\n",
       "    <tr style=\"text-align: right;\">\n",
       "      <th></th>\n",
       "      <th>Name</th>\n",
       "      <th>AtBat</th>\n",
       "      <th>Hits</th>\n",
       "      <th>HmRun</th>\n",
       "      <th>Runs</th>\n",
       "      <th>RBI</th>\n",
       "      <th>Walks</th>\n",
       "      <th>Years</th>\n",
       "      <th>CAtBat</th>\n",
       "      <th>CHits</th>\n",
       "      <th>...</th>\n",
       "      <th>CRuns</th>\n",
       "      <th>CRBI</th>\n",
       "      <th>CWalks</th>\n",
       "      <th>League</th>\n",
       "      <th>Division</th>\n",
       "      <th>PutOuts</th>\n",
       "      <th>Assists</th>\n",
       "      <th>Errors</th>\n",
       "      <th>Salary</th>\n",
       "      <th>NewLeague</th>\n",
       "    </tr>\n",
       "  </thead>\n",
       "  <tbody>\n",
       "    <tr>\n",
       "      <th>1</th>\n",
       "      <td>-Alan Ashby</td>\n",
       "      <td>315</td>\n",
       "      <td>81</td>\n",
       "      <td>7</td>\n",
       "      <td>24</td>\n",
       "      <td>38</td>\n",
       "      <td>39</td>\n",
       "      <td>14</td>\n",
       "      <td>3449</td>\n",
       "      <td>835</td>\n",
       "      <td>...</td>\n",
       "      <td>321</td>\n",
       "      <td>414</td>\n",
       "      <td>375</td>\n",
       "      <td>N</td>\n",
       "      <td>W</td>\n",
       "      <td>632</td>\n",
       "      <td>43</td>\n",
       "      <td>10</td>\n",
       "      <td>475.0</td>\n",
       "      <td>N</td>\n",
       "    </tr>\n",
       "    <tr>\n",
       "      <th>2</th>\n",
       "      <td>-Alvin Davis</td>\n",
       "      <td>479</td>\n",
       "      <td>130</td>\n",
       "      <td>18</td>\n",
       "      <td>66</td>\n",
       "      <td>72</td>\n",
       "      <td>76</td>\n",
       "      <td>3</td>\n",
       "      <td>1624</td>\n",
       "      <td>457</td>\n",
       "      <td>...</td>\n",
       "      <td>224</td>\n",
       "      <td>266</td>\n",
       "      <td>263</td>\n",
       "      <td>A</td>\n",
       "      <td>W</td>\n",
       "      <td>880</td>\n",
       "      <td>82</td>\n",
       "      <td>14</td>\n",
       "      <td>480.0</td>\n",
       "      <td>A</td>\n",
       "    </tr>\n",
       "    <tr>\n",
       "      <th>3</th>\n",
       "      <td>-Andre Dawson</td>\n",
       "      <td>496</td>\n",
       "      <td>141</td>\n",
       "      <td>20</td>\n",
       "      <td>65</td>\n",
       "      <td>78</td>\n",
       "      <td>37</td>\n",
       "      <td>11</td>\n",
       "      <td>5628</td>\n",
       "      <td>1575</td>\n",
       "      <td>...</td>\n",
       "      <td>828</td>\n",
       "      <td>838</td>\n",
       "      <td>354</td>\n",
       "      <td>N</td>\n",
       "      <td>E</td>\n",
       "      <td>200</td>\n",
       "      <td>11</td>\n",
       "      <td>3</td>\n",
       "      <td>500.0</td>\n",
       "      <td>N</td>\n",
       "    </tr>\n",
       "    <tr>\n",
       "      <th>4</th>\n",
       "      <td>-Andres Galarraga</td>\n",
       "      <td>321</td>\n",
       "      <td>87</td>\n",
       "      <td>10</td>\n",
       "      <td>39</td>\n",
       "      <td>42</td>\n",
       "      <td>30</td>\n",
       "      <td>2</td>\n",
       "      <td>396</td>\n",
       "      <td>101</td>\n",
       "      <td>...</td>\n",
       "      <td>48</td>\n",
       "      <td>46</td>\n",
       "      <td>33</td>\n",
       "      <td>N</td>\n",
       "      <td>E</td>\n",
       "      <td>805</td>\n",
       "      <td>40</td>\n",
       "      <td>4</td>\n",
       "      <td>91.5</td>\n",
       "      <td>N</td>\n",
       "    </tr>\n",
       "    <tr>\n",
       "      <th>5</th>\n",
       "      <td>-Alfredo Griffin</td>\n",
       "      <td>594</td>\n",
       "      <td>169</td>\n",
       "      <td>4</td>\n",
       "      <td>74</td>\n",
       "      <td>51</td>\n",
       "      <td>35</td>\n",
       "      <td>11</td>\n",
       "      <td>4408</td>\n",
       "      <td>1133</td>\n",
       "      <td>...</td>\n",
       "      <td>501</td>\n",
       "      <td>336</td>\n",
       "      <td>194</td>\n",
       "      <td>A</td>\n",
       "      <td>W</td>\n",
       "      <td>282</td>\n",
       "      <td>421</td>\n",
       "      <td>25</td>\n",
       "      <td>750.0</td>\n",
       "      <td>A</td>\n",
       "    </tr>\n",
       "  </tbody>\n",
       "</table>\n",
       "<p>5 rows × 21 columns</p>\n",
       "</div>"
      ],
      "text/plain": [
       "                Name  AtBat  Hits  HmRun  Runs  RBI  Walks  Years  CAtBat  \\\n",
       "1        -Alan Ashby    315    81      7    24   38     39     14    3449   \n",
       "2       -Alvin Davis    479   130     18    66   72     76      3    1624   \n",
       "3      -Andre Dawson    496   141     20    65   78     37     11    5628   \n",
       "4  -Andres Galarraga    321    87     10    39   42     30      2     396   \n",
       "5   -Alfredo Griffin    594   169      4    74   51     35     11    4408   \n",
       "\n",
       "   CHits  ...  CRuns  CRBI  CWalks  League Division PutOuts  Assists  Errors  \\\n",
       "1    835  ...    321   414     375       N        W     632       43      10   \n",
       "2    457  ...    224   266     263       A        W     880       82      14   \n",
       "3   1575  ...    828   838     354       N        E     200       11       3   \n",
       "4    101  ...     48    46      33       N        E     805       40       4   \n",
       "5   1133  ...    501   336     194       A        W     282      421      25   \n",
       "\n",
       "   Salary  NewLeague  \n",
       "1   475.0          N  \n",
       "2   480.0          A  \n",
       "3   500.0          N  \n",
       "4    91.5          N  \n",
       "5   750.0          A  \n",
       "\n",
       "[5 rows x 21 columns]"
      ]
     },
     "execution_count": 15,
     "metadata": {},
     "output_type": "execute_result"
    }
   ],
   "source": [
    "df = pd.read_csv('../data/Hitters.csv').dropna()\n",
    "df.head()\n",
    "#dummies = pd.get_dummies(df[['League', 'Division', 'NewLeague']])"
   ]
  },
  {
   "cell_type": "code",
   "execution_count": 16,
   "metadata": {},
   "outputs": [
    {
     "name": "stdout",
     "output_type": "stream",
     "text": [
      "<class 'pandas.core.frame.DataFrame'>\n",
      "Int64Index: 263 entries, 1 to 321\n",
      "Data columns (total 21 columns):\n",
      " #   Column     Non-Null Count  Dtype  \n",
      "---  ------     --------------  -----  \n",
      " 0   Name       263 non-null    object \n",
      " 1   AtBat      263 non-null    int64  \n",
      " 2   Hits       263 non-null    int64  \n",
      " 3   HmRun      263 non-null    int64  \n",
      " 4   Runs       263 non-null    int64  \n",
      " 5   RBI        263 non-null    int64  \n",
      " 6   Walks      263 non-null    int64  \n",
      " 7   Years      263 non-null    int64  \n",
      " 8   CAtBat     263 non-null    int64  \n",
      " 9   CHits      263 non-null    int64  \n",
      " 10  CHmRun     263 non-null    int64  \n",
      " 11  CRuns      263 non-null    int64  \n",
      " 12  CRBI       263 non-null    int64  \n",
      " 13  CWalks     263 non-null    int64  \n",
      " 14  League     263 non-null    object \n",
      " 15  Division   263 non-null    object \n",
      " 16  PutOuts    263 non-null    int64  \n",
      " 17  Assists    263 non-null    int64  \n",
      " 18  Errors     263 non-null    int64  \n",
      " 19  Salary     263 non-null    float64\n",
      " 20  NewLeague  263 non-null    object \n",
      "dtypes: float64(1), int64(16), object(4)\n",
      "memory usage: 45.2+ KB\n"
     ]
    }
   ],
   "source": [
    "df.info()"
   ]
  },
  {
   "cell_type": "code",
   "execution_count": 19,
   "metadata": {},
   "outputs": [],
   "source": [
    "\n",
    "dummies = pd.get_dummies(df[['League', 'Division', 'NewLeague']])\n",
    "X_ = df.drop(['Name','Salary', 'League', 'Division', 'NewLeague'], axis = 1).astype('float64')\n",
    "X = pd.concat([X_, dummies[['League_N', 'Division_W', 'NewLeague_N']]], axis = 1)\n",
    "y = df.Salary"
   ]
  },
  {
   "cell_type": "code",
   "execution_count": 30,
   "metadata": {},
   "outputs": [],
   "source": [
    "# Split data into training and test sets\n",
    "X_train, X_test , y_train, y_test = train_test_split(X, y, test_size=0.25, random_state=1)"
   ]
  },
  {
   "cell_type": "markdown",
   "metadata": {},
   "source": [
    "We will now perform ridge regression and the lasso in order to predict `Salary` on\n",
    "the `Hitters` data. Let's set up our data:"
   ]
  },
  {
   "cell_type": "code",
   "execution_count": 31,
   "metadata": {},
   "outputs": [],
   "source": [
    "ss = StandardScaler()\n",
    "ss.fit(X_train)\n",
    "X_train = ss.transform(X_train)\n",
    "X_test = ss.transform(X_test)"
   ]
  },
  {
   "cell_type": "markdown",
   "metadata": {},
   "source": [
    "# 6.6.1 Ridge Regression\n",
    "The `Ridge()` function has an alpha argument ($\\lambda$, but with a different name!) that is used to tune the model. We'll generate an array of alpha values ranging from very big to very small, essentially\n",
    "covering the full range of scenarios from the null model containing\n",
    "only the intercept, to the least squares fit:"
   ]
  },
  {
   "cell_type": "code",
   "execution_count": 28,
   "metadata": {
    "collapsed": false
   },
   "outputs": [
    {
     "data": {
      "text/plain": [
       "array([1.00000000e+10, 4.92388263e+09, 2.42446202e+09, 1.19377664e+09,\n",
       "       5.87801607e+08, 2.89426612e+08, 1.42510267e+08, 7.01703829e+07,\n",
       "       3.45510729e+07, 1.70125428e+07, 8.37677640e+06, 4.12462638e+06,\n",
       "       2.03091762e+06, 1.00000000e+06, 4.92388263e+05, 2.42446202e+05,\n",
       "       1.19377664e+05, 5.87801607e+04, 2.89426612e+04, 1.42510267e+04,\n",
       "       7.01703829e+03, 3.45510729e+03, 1.70125428e+03, 8.37677640e+02,\n",
       "       4.12462638e+02, 2.03091762e+02, 1.00000000e+02, 4.92388263e+01,\n",
       "       2.42446202e+01, 1.19377664e+01, 5.87801607e+00, 2.89426612e+00,\n",
       "       1.42510267e+00, 7.01703829e-01, 3.45510729e-01, 1.70125428e-01,\n",
       "       8.37677640e-02, 4.12462638e-02, 2.03091762e-02, 1.00000000e-02])"
      ]
     },
     "execution_count": 28,
     "metadata": {},
     "output_type": "execute_result"
    }
   ],
   "source": [
    "alphas = 10**np.linspace(10,-2,40)\n",
    "alphas"
   ]
  },
  {
   "cell_type": "markdown",
   "metadata": {},
   "source": [
    "We expect the coefficient estimates to be much smaller, in terms of $l_2$ norm,\n",
    "when a large value of alpha is used, as compared to when a small value of alpha is\n",
    "used. Let's plot and find out:"
   ]
  },
  {
   "cell_type": "markdown",
   "metadata": {},
   "source": [
    "We now split the samples into a training set and a test set in order\n",
    "to estimate the test error of ridge regression and the lasso:"
   ]
  },
  {
   "cell_type": "markdown",
   "metadata": {},
   "source": [
    "It looks like we are indeed improving over regular least-squares!\n",
    "\n",
    "Instead of arbitrarily choosing alpha $ = 4$, it would be better to\n",
    "use cross-validation to choose the tuning parameter alpha. We can do this using\n",
    "the cross-validated ridge regression function, `RidgeCV()`. By default, the function\n",
    "performs generalized cross-validation (an efficient form of LOOCV), though this can be changed using the\n",
    "argument `cv`."
   ]
  },
  {
   "cell_type": "code",
   "execution_count": 58,
   "metadata": {
    "collapsed": false
   },
   "outputs": [
    {
     "name": "stdout",
     "output_type": "stream",
     "text": [
      "49.238826317067314\n"
     ]
    },
    {
     "data": {
      "text/plain": [
       "0.4225178250163234"
      ]
     },
     "execution_count": 58,
     "metadata": {},
     "output_type": "execute_result"
    }
   ],
   "source": [
    "ridgecv = RidgeCV(alphas = alphas,cv = 5)\n",
    "ridgecv.fit(X_train, y_train)\n",
    "bestalpha = ridgecv.alpha_\n",
    "print(bestalpha)\n",
    "ridge4 = Ridge(alpha = ridgecv.alpha_)\n",
    "ridge4.fit(X_train,y_train)\n",
    "ridge4.score(X_test, y_test)"
   ]
  },
  {
   "cell_type": "code",
   "execution_count": 59,
   "metadata": {},
   "outputs": [
    {
     "data": {
      "text/plain": [
       "AtBat         -14.215874\n",
       "Hits           64.979938\n",
       "HmRun         -11.821717\n",
       "Runs           13.685084\n",
       "RBI            37.985555\n",
       "Walks          41.650542\n",
       "Years          -4.158799\n",
       "CAtBat         14.563845\n",
       "CHits          44.123903\n",
       "CHmRun         59.209231\n",
       "CRuns          34.449179\n",
       "CRBI           57.898335\n",
       "CWalks        -15.548299\n",
       "PutOuts        75.257288\n",
       "Assists        -9.614693\n",
       "Errors          7.072769\n",
       "League_N        9.296952\n",
       "Division_W    -47.195799\n",
       "NewLeague_N     8.168018\n",
       "dtype: float64"
      ]
     },
     "execution_count": 59,
     "metadata": {},
     "output_type": "execute_result"
    }
   ],
   "source": [
    "pd.Series(ridge4.coef_, index = X.columns)"
   ]
  },
  {
   "cell_type": "markdown",
   "metadata": {},
   "source": [
    "As expected, none of the coefficients are exactly zero - ridge regression does not\n",
    "perform variable selection!\n",
    "\n",
    "# 6.6.2 The Lasso\n",
    "We saw that ridge regression with a wise choice of alpha can outperform least\n",
    "squares as well as the null model on the Hitters data set. We now ask\n",
    "whether the lasso can yield either a more accurate or a more interpretable\n",
    "model than ridge regression. In order to fit a lasso model, we'll\n",
    "use the `Lasso()` function; however, this time we'll need to include the argument `max_iter = 10000`.\n",
    "Other than that change, we proceed just as we did in fitting a ridge model:"
   ]
  },
  {
   "cell_type": "markdown",
   "metadata": {},
   "source": [
    "Notice that in the coefficient plot that depending on the choice of tuning\n",
    "parameter, some of the coefficients are exactly equal to zero. We now\n",
    "perform 10-fold cross-validation to choose the best alpha, refit the model, and compute the associated test error:"
   ]
  },
  {
   "cell_type": "code",
   "execution_count": 70,
   "metadata": {
    "collapsed": false
   },
   "outputs": [
    {
     "data": {
      "text/plain": [
       "[<matplotlib.lines.Line2D at 0x7faf82fb8e90>]"
      ]
     },
     "execution_count": 70,
     "metadata": {},
     "output_type": "execute_result"
    },
    {
     "data": {
      "image/png": "[encoded data removed]",
      "text/plain": [
       "<Figure size 640x480 with 1 Axes>"
      ]
     },
     "metadata": {},
     "output_type": "display_data"
    }
   ],
   "source": [
    "lassocv = LassoCV(alphas = None, cv = 5, max_iter = 100000)\n",
    "lassocv.fit(X_train, y_train)\n",
    "alphas = lassocv.alphas_\n",
    "thealpha = lassocv.alpha_\n",
    "mse_path = lassocv.mse_path_\n",
    "plt.plot(np.log10(alphas),np.mean(mse_path,axis = 1))\n",
    "plt.plot(np.log10(thealpha),np.mean(mse_path[alphas == thealpha,:]),'ro')\n",
    "#lasso.set_params(alpha=lassocv.alpha_)\n",
    "#lasso.fit(X_train, y_train)\n",
    "#mean_squared_error(y_test, lasso.predict(X_test))"
   ]
  },
  {
   "cell_type": "code",
   "execution_count": 71,
   "metadata": {},
   "outputs": [
    {
     "data": {
      "text/plain": [
       "0.4112849770718028"
      ]
     },
     "execution_count": 71,
     "metadata": {},
     "output_type": "execute_result"
    }
   ],
   "source": [
    "lasso = Lasso()\n",
    "lasso.set_params(alpha=lassocv.alpha_)\n",
    "lasso.fit(X_train, y_train)\n",
    "lasso.score(X_test,y_test)"
   ]
  },
  {
   "cell_type": "code",
   "execution_count": 72,
   "metadata": {
    "collapsed": false
   },
   "outputs": [
    {
     "data": {
      "text/plain": [
       "AtBat           -0.000000\n",
       "Hits            90.591352\n",
       "HmRun            0.000000\n",
       "Runs             0.000000\n",
       "RBI              0.000000\n",
       "Walks           33.038595\n",
       "Years           -0.000000\n",
       "CAtBat           0.000000\n",
       "CHits            0.000000\n",
       "CHmRun          27.981999\n",
       "CRuns            0.000000\n",
       "CRBI           163.191142\n",
       "CWalks          -0.000000\n",
       "PutOuts         83.611845\n",
       "Assists         -0.000000\n",
       "Errors           0.000000\n",
       "League_N         0.194500\n",
       "Division_W     -46.309345\n",
       "NewLeague_N      2.063234\n",
       "dtype: float64"
      ]
     },
     "execution_count": 72,
     "metadata": {},
     "output_type": "execute_result"
    }
   ],
   "source": [
    "# Some of the coefficients are now reduced to exactly zero.\n",
    "pd.Series(lasso.coef_, index=X.columns)"
   ]
  },
  {
   "cell_type": "code",
   "execution_count": 74,
   "metadata": {},
   "outputs": [
    {
     "name": "stderr",
     "output_type": "stream",
     "text": [
      "/home/ramesh/anaconda3/lib/python3.11/site-packages/pandas/core/arraylike.py:402: RuntimeWarning: divide by zero encountered in log\n",
      "  result = getattr(ufunc, method)(*inputs, **kwargs)\n"
     ]
    },
    {
     "data": {
      "text/plain": [
       "[<matplotlib.lines.Line2D at 0x7faf6dd10450>]"
      ]
     },
     "execution_count": 74,
     "metadata": {},
     "output_type": "execute_result"
    },
    {
     "data": {
      "image/png": "[encoded data removed]",
      "text/plain": [
       "<Figure size 640x480 with 1 Axes>"
      ]
     },
     "metadata": {},
     "output_type": "display_data"
    }
   ],
   "source": [
    "plt.plot(np.log(X['CHmRun']),np.log(X['CRBI']),'ro')"
   ]
  },
  {
   "cell_type": "code",
   "execution_count": null,
   "metadata": {},
   "outputs": [],
   "source": [
    "Its tricky to interpret relative lasso weights.  "
   ]
  }
 ],
 "metadata": {
  "anaconda-cloud": {},
  "kernelspec": {
   "display_name": "Python 3",
   "language": "python",
   "name": "python3"
  },
  "language_info": {
   "codemirror_mode": {
    "name": "ipython",
    "version": 3
   },
   "file_extension": ".py",
   "mimetype": "text/x-python",
   "name": "python",
   "nbconvert_exporter": "python",
   "pygments_lexer": "ipython3",
   "version": "3.11.3"
  }
 },
 "nbformat": 4,
 "nbformat_minor": 0
}
