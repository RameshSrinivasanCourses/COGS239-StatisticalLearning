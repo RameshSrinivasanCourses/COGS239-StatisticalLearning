{
 "cells": [
  {
   "cell_type": "code",
   "execution_count": 1,
   "metadata": {},
   "outputs": [],
   "source": [
    "import pandas as pd\n",
    "import numpy as np\n",
    "from matplotlib import pyplot as plt\n",
    "from sklearn.model_selection import train_test_split, cross_validate\n",
    "from sklearn.decomposition import PCA \n",
    "from sklearn.preprocessing import StandardScaler  \n",
    "from sklearn.cross_decomposition import PLSRegression\n",
    "from sklearn.linear_model import LinearRegression"
   ]
  },
  {
   "cell_type": "markdown",
   "metadata": {},
   "source": [
    "* This block loads the data and test/train splits"
   ]
  },
  {
   "cell_type": "code",
   "execution_count": 2,
   "metadata": {},
   "outputs": [],
   "source": [
    "## Load the dataset\n",
    "college_df = pd.read_csv(\"../data/College.csv\")\n",
    "college_df = college_df.set_index('Unnamed: 0')\n",
    "\n",
    "## One-hot encode the categorical variable\n",
    "college_df = pd.get_dummies(college_df, drop_first=True)\n",
    "\n",
    "## Split into predictors and target\n",
    "y = college_df['Apps']\n",
    "X = college_df.drop('Apps', axis=1)\n",
    "\n",
    "## Split into training and test sets\n",
    "X_train, X_test, y_train, y_test = train_test_split(X, y, random_state=42)"
   ]
  },
  {
   "cell_type": "markdown",
   "metadata": {},
   "source": [
    "* This block does Standard Scaler"
   ]
  },
  {
   "cell_type": "code",
   "execution_count": 3,
   "metadata": {},
   "outputs": [],
   "source": [
    "## Standardize\n",
    "\n",
    "## Scale predictors \n",
    "scaler = StandardScaler()\n",
    "scaler.fit(X_train)\n",
    "\n",
    "X_train = scaler.transform(X_train)\n",
    "X_test = scaler.transform(X_test)\n"
   ]
  },
  {
   "cell_type": "markdown",
   "metadata": {},
   "source": [
    "* This block examines the PLS Regression model"
   ]
  },
  {
   "cell_type": "code",
   "execution_count": 4,
   "metadata": {},
   "outputs": [
    {
     "data": {
      "text/plain": [
       "Text(0, 0.5, 'RMS error')"
      ]
     },
     "execution_count": 4,
     "metadata": {},
     "output_type": "execute_result"
    },
    {
     "data": {
      "image/png": "[encoded data removed]",
      "text/plain": [
       "<Figure size 640x480 with 1 Axes>"
      ]
     },
     "metadata": {},
     "output_type": "display_data"
    }
   ],
   "source": [
    "#Run the PLS Regression model for varying number of components\n",
    "pls = PLSRegression()\n",
    "cv_scores_PLS = []\n",
    "for i in range(2,18):\n",
    "    pls.set_params(n_components=i, tol = 0.0001)\n",
    "    scores = cross_validate(pls, X_train, y_train, scoring='neg_root_mean_squared_error', n_jobs = -1)\n",
    "    # default in cross_validate is 5-fold, otherwise set cv = \n",
    "    cv_scores_PLS.append(np.abs(np.mean(scores['test_score'])))\n",
    "plt.bar(np.arange(2,18),cv_scores_PLS)\n",
    "plt.xlabel('Number of components')\n",
    "plt.ylabel('RMS error')"
   ]
  },
  {
   "cell_type": "markdown",
   "metadata": {},
   "source": [
    "* Let's agree on a 5 component model "
   ]
  },
  {
   "cell_type": "code",
   "execution_count": 5,
   "metadata": {},
   "outputs": [
    {
     "name": "stdout",
     "output_type": "stream",
     "text": [
      "0.8629733738416636\n"
     ]
    }
   ],
   "source": [
    "pls = PLSRegression()\n",
    "pls.set_params(n_components = 5, tol = 0.0001)\n",
    "pls.fit(X_train,y_train)\n",
    "coef = pls.score(X_test,y_test)\n",
    "print(coef)\n",
    "\n"
   ]
  },
  {
   "cell_type": "markdown",
   "metadata": {},
   "source": [
    "* The best thing to do is to project the coefficients back to the data space"
   ]
  },
  {
   "cell_type": "code",
   "execution_count": 6,
   "metadata": {},
   "outputs": [
    {
     "data": {
      "text/html": [
       "<div>\n",
       "<style scoped>\n",
       "    .dataframe tbody tr th:only-of-type {\n",
       "        vertical-align: middle;\n",
       "    }\n",
       "\n",
       "    .dataframe tbody tr th {\n",
       "        vertical-align: top;\n",
       "    }\n",
       "\n",
       "    .dataframe thead th {\n",
       "        text-align: right;\n",
       "    }\n",
       "</style>\n",
       "<table border=\"1\" class=\"dataframe\">\n",
       "  <thead>\n",
       "    <tr style=\"text-align: right;\">\n",
       "      <th></th>\n",
       "      <th>Accept</th>\n",
       "      <th>Enroll</th>\n",
       "      <th>Top10perc</th>\n",
       "      <th>Top25perc</th>\n",
       "      <th>F.Undergrad</th>\n",
       "      <th>P.Undergrad</th>\n",
       "      <th>Outstate</th>\n",
       "      <th>Room.Board</th>\n",
       "      <th>Books</th>\n",
       "      <th>Personal</th>\n",
       "      <th>PhD</th>\n",
       "      <th>Terminal</th>\n",
       "      <th>S.F.Ratio</th>\n",
       "      <th>perc.alumni</th>\n",
       "      <th>Expend</th>\n",
       "      <th>Grad.Rate</th>\n",
       "      <th>Private_Yes</th>\n",
       "    </tr>\n",
       "  </thead>\n",
       "  <tbody>\n",
       "    <tr>\n",
       "      <th>0</th>\n",
       "      <td>3851.349778</td>\n",
       "      <td>-104.89628</td>\n",
       "      <td>515.530896</td>\n",
       "      <td>15.489434</td>\n",
       "      <td>-169.451756</td>\n",
       "      <td>-157.000953</td>\n",
       "      <td>-440.115187</td>\n",
       "      <td>304.00459</td>\n",
       "      <td>101.120438</td>\n",
       "      <td>214.934711</td>\n",
       "      <td>-117.008878</td>\n",
       "      <td>-68.038007</td>\n",
       "      <td>33.871358</td>\n",
       "      <td>-5.301387</td>\n",
       "      <td>368.212145</td>\n",
       "      <td>8.461651</td>\n",
       "      <td>-91.951795</td>\n",
       "    </tr>\n",
       "  </tbody>\n",
       "</table>\n",
       "</div>"
      ],
      "text/plain": [
       "        Accept     Enroll   Top10perc  Top25perc  F.Undergrad  P.Undergrad  \\\n",
       "0  3851.349778 -104.89628  515.530896  15.489434  -169.451756  -157.000953   \n",
       "\n",
       "     Outstate  Room.Board       Books    Personal         PhD   Terminal  \\\n",
       "0 -440.115187   304.00459  101.120438  214.934711 -117.008878 -68.038007   \n",
       "\n",
       "   S.F.Ratio  perc.alumni      Expend  Grad.Rate  Private_Yes  \n",
       "0  33.871358    -5.301387  368.212145   8.461651   -91.951795  "
      ]
     },
     "execution_count": 6,
     "metadata": {},
     "output_type": "execute_result"
    }
   ],
   "source": [
    "#Examine the coefficients \n",
    "model = pd.DataFrame(pls.coef_,columns = X.columns)\n",
    "model.head()"
   ]
  },
  {
   "cell_type": "markdown",
   "metadata": {},
   "source": [
    "* But if you insist you can try to interpret the loadings. "
   ]
  },
  {
   "cell_type": "code",
   "execution_count": 7,
   "metadata": {},
   "outputs": [
    {
     "data": {
      "text/html": [
       "<div>\n",
       "<style scoped>\n",
       "    .dataframe tbody tr th:only-of-type {\n",
       "        vertical-align: middle;\n",
       "    }\n",
       "\n",
       "    .dataframe tbody tr th {\n",
       "        vertical-align: top;\n",
       "    }\n",
       "\n",
       "    .dataframe thead th {\n",
       "        text-align: right;\n",
       "    }\n",
       "</style>\n",
       "<table border=\"1\" class=\"dataframe\">\n",
       "  <thead>\n",
       "    <tr style=\"text-align: right;\">\n",
       "      <th></th>\n",
       "      <th>Accept</th>\n",
       "      <th>Enroll</th>\n",
       "      <th>Top10perc</th>\n",
       "      <th>Top25perc</th>\n",
       "      <th>F.Undergrad</th>\n",
       "      <th>P.Undergrad</th>\n",
       "      <th>Outstate</th>\n",
       "      <th>Room.Board</th>\n",
       "      <th>Books</th>\n",
       "      <th>Personal</th>\n",
       "      <th>PhD</th>\n",
       "      <th>Terminal</th>\n",
       "      <th>S.F.Ratio</th>\n",
       "      <th>perc.alumni</th>\n",
       "      <th>Expend</th>\n",
       "      <th>Grad.Rate</th>\n",
       "      <th>Private_Yes</th>\n",
       "    </tr>\n",
       "  </thead>\n",
       "  <tbody>\n",
       "    <tr>\n",
       "      <th>0</th>\n",
       "      <td>0.439181</td>\n",
       "      <td>0.448618</td>\n",
       "      <td>0.185045</td>\n",
       "      <td>0.215221</td>\n",
       "      <td>0.444529</td>\n",
       "      <td>0.273368</td>\n",
       "      <td>0.026269</td>\n",
       "      <td>0.085039</td>\n",
       "      <td>0.080617</td>\n",
       "      <td>0.120093</td>\n",
       "      <td>0.283332</td>\n",
       "      <td>0.273369</td>\n",
       "      <td>0.056010</td>\n",
       "      <td>-0.052536</td>\n",
       "      <td>0.126890</td>\n",
       "      <td>0.050306</td>\n",
       "      <td>-0.269195</td>\n",
       "    </tr>\n",
       "    <tr>\n",
       "      <th>1</th>\n",
       "      <td>0.352923</td>\n",
       "      <td>0.283009</td>\n",
       "      <td>-0.334936</td>\n",
       "      <td>-0.319594</td>\n",
       "      <td>0.232884</td>\n",
       "      <td>-0.068952</td>\n",
       "      <td>-0.223887</td>\n",
       "      <td>-0.133401</td>\n",
       "      <td>-0.031231</td>\n",
       "      <td>-0.103438</td>\n",
       "      <td>-0.636930</td>\n",
       "      <td>-0.643881</td>\n",
       "      <td>0.158708</td>\n",
       "      <td>-0.255817</td>\n",
       "      <td>-0.249837</td>\n",
       "      <td>-0.020884</td>\n",
       "      <td>0.014055</td>\n",
       "    </tr>\n",
       "    <tr>\n",
       "      <th>2</th>\n",
       "      <td>-0.013341</td>\n",
       "      <td>0.070048</td>\n",
       "      <td>-0.328655</td>\n",
       "      <td>-0.289260</td>\n",
       "      <td>0.117465</td>\n",
       "      <td>0.259941</td>\n",
       "      <td>-0.418577</td>\n",
       "      <td>-0.318817</td>\n",
       "      <td>0.006758</td>\n",
       "      <td>0.232594</td>\n",
       "      <td>-0.131579</td>\n",
       "      <td>-0.133883</td>\n",
       "      <td>0.313923</td>\n",
       "      <td>-0.315396</td>\n",
       "      <td>-0.347093</td>\n",
       "      <td>-0.344628</td>\n",
       "      <td>-0.315628</td>\n",
       "    </tr>\n",
       "    <tr>\n",
       "      <th>3</th>\n",
       "      <td>0.344197</td>\n",
       "      <td>-0.056727</td>\n",
       "      <td>-0.244884</td>\n",
       "      <td>-0.280918</td>\n",
       "      <td>-0.158671</td>\n",
       "      <td>-0.731477</td>\n",
       "      <td>-0.284153</td>\n",
       "      <td>-0.094272</td>\n",
       "      <td>-0.192153</td>\n",
       "      <td>0.065577</td>\n",
       "      <td>0.391266</td>\n",
       "      <td>0.376951</td>\n",
       "      <td>0.265220</td>\n",
       "      <td>-0.278858</td>\n",
       "      <td>-0.019421</td>\n",
       "      <td>-0.505560</td>\n",
       "      <td>-0.215970</td>\n",
       "    </tr>\n",
       "    <tr>\n",
       "      <th>4</th>\n",
       "      <td>0.154289</td>\n",
       "      <td>-0.188999</td>\n",
       "      <td>0.223440</td>\n",
       "      <td>0.175611</td>\n",
       "      <td>-0.195309</td>\n",
       "      <td>0.532220</td>\n",
       "      <td>-0.079181</td>\n",
       "      <td>0.040076</td>\n",
       "      <td>0.588482</td>\n",
       "      <td>0.707746</td>\n",
       "      <td>-0.318389</td>\n",
       "      <td>-0.309209</td>\n",
       "      <td>-0.298070</td>\n",
       "      <td>0.128552</td>\n",
       "      <td>0.140787</td>\n",
       "      <td>-0.054229</td>\n",
       "      <td>0.265610</td>\n",
       "    </tr>\n",
       "  </tbody>\n",
       "</table>\n",
       "</div>"
      ],
      "text/plain": [
       "     Accept    Enroll  Top10perc  Top25perc  F.Undergrad  P.Undergrad  \\\n",
       "0  0.439181  0.448618   0.185045   0.215221     0.444529     0.273368   \n",
       "1  0.352923  0.283009  -0.334936  -0.319594     0.232884    -0.068952   \n",
       "2 -0.013341  0.070048  -0.328655  -0.289260     0.117465     0.259941   \n",
       "3  0.344197 -0.056727  -0.244884  -0.280918    -0.158671    -0.731477   \n",
       "4  0.154289 -0.188999   0.223440   0.175611    -0.195309     0.532220   \n",
       "\n",
       "   Outstate  Room.Board     Books  Personal       PhD  Terminal  S.F.Ratio  \\\n",
       "0  0.026269    0.085039  0.080617  0.120093  0.283332  0.273369   0.056010   \n",
       "1 -0.223887   -0.133401 -0.031231 -0.103438 -0.636930 -0.643881   0.158708   \n",
       "2 -0.418577   -0.318817  0.006758  0.232594 -0.131579 -0.133883   0.313923   \n",
       "3 -0.284153   -0.094272 -0.192153  0.065577  0.391266  0.376951   0.265220   \n",
       "4 -0.079181    0.040076  0.588482  0.707746 -0.318389 -0.309209  -0.298070   \n",
       "\n",
       "   perc.alumni    Expend  Grad.Rate  Private_Yes  \n",
       "0    -0.052536  0.126890   0.050306    -0.269195  \n",
       "1    -0.255817 -0.249837  -0.020884     0.014055  \n",
       "2    -0.315396 -0.347093  -0.344628    -0.315628  \n",
       "3    -0.278858 -0.019421  -0.505560    -0.215970  \n",
       "4     0.128552  0.140787  -0.054229     0.265610  "
      ]
     },
     "execution_count": 7,
     "metadata": {},
     "output_type": "execute_result"
    }
   ],
   "source": [
    "model = pd.DataFrame(np.transpose(pls.x_loadings_),columns = X.columns)\n",
    "model.head()"
   ]
  },
  {
   "cell_type": "markdown",
   "metadata": {},
   "source": [
    "* Lets compare to a PCA regression model "
   ]
  },
  {
   "cell_type": "code",
   "execution_count": 8,
   "metadata": {},
   "outputs": [
    {
     "name": "stdout",
     "output_type": "stream",
     "text": [
      "0.8606501781209519\n"
     ]
    }
   ],
   "source": [
    "pca = PCA()\n",
    "#Here I use Linear Regression to fit after I PCA\n",
    "lr = LinearRegression()\n",
    "pca.fit(X_train)\n",
    "X_pca = pca.transform(X_train)\n",
    "lr.fit(X_pca,y_train)\n",
    "X_test_pca = pca.transform(X_test)\n",
    "r2  = lr.score(X_test_pca,y_test)\n",
    "print(r2)\n",
    "\n",
    "\n"
   ]
  },
  {
   "cell_type": "markdown",
   "metadata": {},
   "source": [
    "* Following the PLS Regression lets look at different numbers of components "
   ]
  },
  {
   "cell_type": "code",
   "execution_count": 9,
   "metadata": {},
   "outputs": [
    {
     "data": {
      "text/plain": [
       "Text(0, 0.5, 'RMS error')"
      ]
     },
     "execution_count": 9,
     "metadata": {},
     "output_type": "execute_result"
    },
    {
     "data": {
      "image/png": "[encoded data removed]",
      "text/plain": [
       "<Figure size 640x480 with 1 Axes>"
      ]
     },
     "metadata": {},
     "output_type": "display_data"
    }
   ],
   "source": [
    "pca_cv = list()\n",
    "for j in range(2,19):\n",
    "    lrcv = LinearRegression()\n",
    "    scores = cross_validate(lrcv, X_pca[:,0:j], y_train, scoring='neg_root_mean_squared_error')\n",
    "    pca_cv.append(np.abs(np.mean(scores['test_score'])))\n",
    "plt.bar(np.arange(2,19),pca_cv)\n",
    "plt.xlabel('Number of components')\n",
    "plt.ylabel('RMS error')"
   ]
  },
  {
   "cell_type": "markdown",
   "metadata": {},
   "source": [
    "Finally, lets compare a 5 component model. "
   ]
  },
  {
   "cell_type": "code",
   "execution_count": 10,
   "metadata": {},
   "outputs": [
    {
     "name": "stdout",
     "output_type": "stream",
     "text": [
      "0.7934788836620004\n"
     ]
    }
   ],
   "source": [
    "\n",
    "lr5 = LinearRegression()\n",
    "\n",
    "lr5.fit(X_pca[:,0:5],y_train)\n",
    "X_test_pca = pca.transform(X_test)\n",
    "r2  = lr5.score(X_test_pca[:,0:5],y_test)\n",
    "print(r2)"
   ]
  }
 ],
 "metadata": {
  "kernelspec": {
   "display_name": "base",
   "language": "python",
   "name": "python3"
  },
  "language_info": {
   "codemirror_mode": {
    "name": "ipython",
    "version": 3
   },
   "file_extension": ".py",
   "mimetype": "text/x-python",
   "name": "python",
   "nbconvert_exporter": "python",
   "pygments_lexer": "ipython3",
   "version": "3.12.4"
  }
 },
 "nbformat": 4,
 "nbformat_minor": 2
}
